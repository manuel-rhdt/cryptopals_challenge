{
 "cells": [
  {
   "cell_type": "code",
   "execution_count": 11,
   "id": "9be5e89e-bd3e-47b0-85ee-c22888e0f0d4",
   "metadata": {},
   "outputs": [
    {
     "name": "stdout",
     "output_type": "stream",
     "text": [
      "[master (root-commit) 8c34bd2] initial commit\n",
      " 25 files changed, 4121 insertions(+)\n",
      " create mode 100644 .bash_logout\n",
      " create mode 100644 .bashrc\n",
      " create mode 100644 .cache/pip/http-v2/a/1/9/5/3/a19537d3cf37c122db841d6fe4cd322bc10d1a558bb00d146b85cb9a\n",
      " create mode 100644 .cache/pip/http-v2/a/1/9/5/3/a19537d3cf37c122db841d6fe4cd322bc10d1a558bb00d146b85cb9a.body\n",
      " create mode 100644 .cache/pip/selfcheck/ab2bb442149194bcbab5700d8f932112632ba9320db09910f4a4422b\n",
      " create mode 100644 .ipynb_checkpoints/Challenge-checkpoint.ipynb\n",
      " create mode 100644 .ipynb_checkpoints/Untitled-checkpoint.ipynb\n",
      " create mode 100644 .ipython/profile_default/history.sqlite\n",
      " create mode 100644 .ipython/profile_default/startup/README\n",
      " create mode 100644 .jupyter/jupyter_server_config.py\n",
      " create mode 100644 .jupyter/lab/user-settings/@jupyterlab/apputils-extension/notification.jupyterlab-settings\n",
      " create mode 100644 .jupyter/lab/workspaces/default-37a8.jupyterlab-workspace\n",
      " create mode 100644 .local/share/jupyter/nbsignatures.db\n",
      " create mode 100644 .local/share/jupyter/notebook_secret\n",
      " create mode 100644 .local/share/jupyter/runtime/jpserver-7-open.html\n",
      " create mode 100644 .local/share/jupyter/runtime/jpserver-7.json\n",
      " create mode 100644 .local/share/jupyter/runtime/jupyter_cookie_secret\n",
      " create mode 100644 .local/share/jupyter/runtime/kernel-9ed11234-c752-4b96-a950-ca210c8625b3.json\n",
      " create mode 100644 .local/share/jupyter/runtime/kernel-e607162d-5f7c-431f-af86-d6c262021428.json\n",
      " create mode 100644 .profile\n",
      " create mode 100644 .wget-hsts\n",
      " create mode 100644 6.txt\n",
      " create mode 100644 7.txt\n",
      " create mode 100644 Challenge.ipynb\n",
      " create mode 100644 Untitled.ipynb\n"
     ]
    }
   ],
   "source": [
    "!git commit -m \"initial commit\""
   ]
  },
  {
   "cell_type": "code",
   "execution_count": 12,
   "id": "ea7b0f03-5d4b-40d9-ba85-f5fa9cddc779",
   "metadata": {},
   "outputs": [
    {
     "name": "stdout",
     "output_type": "stream",
     "text": [
      "On branch master\n",
      "Changes not staged for commit:\n",
      "  (use \"git add <file>...\" to update what will be committed)\n",
      "  (use \"git restore <file>...\" to discard changes in working directory)\n",
      "\t\u001b[31mmodified:   .ipython/profile_default/history.sqlite\u001b[m\n",
      "\t\u001b[31mmodified:   .local/share/jupyter/nbsignatures.db\u001b[m\n",
      "\t\u001b[31mmodified:   Untitled.ipynb\u001b[m\n",
      "\n",
      "no changes added to commit (use \"git add\" and/or \"git commit -a\")\n"
     ]
    }
   ],
   "source": [
    "!git status"
   ]
  },
  {
   "cell_type": "code",
   "execution_count": 16,
   "id": "86161c19-fbc6-488c-882c-967217bb1d1a",
   "metadata": {},
   "outputs": [
    {
     "name": "stdout",
     "output_type": "stream",
     "text": [
      "error: remote origin already exists.\n",
      "yes: standard output: Broken pipe\n",
      "The authenticity of host 'github.com (140.82.121.3)' can't be established.\n",
      "ED25519 key fingerprint is SHA256:+DiY3wvvV6TuJJhbpZisF/zLDA0zPMSvHdkr4UvCOqU.\n",
      "This key is not known by any other names.\n",
      "Are you sure you want to continue connecting (yes/no/[fingerprint])? ^C\n"
     ]
    }
   ],
   "source": [
    "!git remote add origin git@github.com:manuel-rhdt/cryptopals_challenge.git\n",
    "!git branch -M main"
   ]
  },
  {
   "cell_type": "code",
   "execution_count": 24,
   "id": "b350ae6e-3ed2-4d49-9fad-f474129092ba",
   "metadata": {},
   "outputs": [],
   "source": [
    "!chmod 600 .ssh/id_ed25519"
   ]
  },
  {
   "cell_type": "code",
   "execution_count": null,
   "id": "ee0e84f2-7503-4179-8835-ef8eee1e9acd",
   "metadata": {},
   "outputs": [],
   "source": []
  }
 ],
 "metadata": {
  "kernelspec": {
   "display_name": "Python 3 (ipykernel)",
   "language": "python",
   "name": "python3"
  },
  "language_info": {
   "codemirror_mode": {
    "name": "ipython",
    "version": 3
   },
   "file_extension": ".py",
   "mimetype": "text/x-python",
   "name": "python",
   "nbconvert_exporter": "python",
   "pygments_lexer": "ipython3",
   "version": "3.13.7"
  }
 },
 "nbformat": 4,
 "nbformat_minor": 5
}
