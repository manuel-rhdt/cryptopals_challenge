{
 "cells": [
  {
   "cell_type": "markdown",
   "id": "cdb721d8-27fb-48a3-a181-6898cc75b68f",
   "metadata": {},
   "source": [
    "## Challenge 1\n"
   ]
  },
  {
   "cell_type": "code",
   "execution_count": 4,
   "id": "3adbb433-2ab0-40c1-96b5-81c39a52a873",
   "metadata": {},
   "outputs": [],
   "source": [
    "import base64\n",
    "\n",
    "def hex_to_base64(hex_text: str):\n",
    "    text = bytes.fromhex(hex_text)\n",
    "    return base64.b64encode(text).decode('ascii')\n",
    "    \n",
    "    "
   ]
  },
  {
   "cell_type": "code",
   "execution_count": 7,
   "id": "caf0d65a-6c02-4225-80d8-72c8c585bbde",
   "metadata": {},
   "outputs": [
    {
     "data": {
      "text/plain": [
       "'SSdtIGtpbGxpbmcgeW91ciBicmFpbiBsaWtlIGEgcG9pc29ub3VzIG11c2hyb29t'"
      ]
     },
     "execution_count": 7,
     "metadata": {},
     "output_type": "execute_result"
    }
   ],
   "source": [
    "input_text = \"49276d206b696c6c696e6720796f757220627261696e206c696b65206120706f69736f6e6f7573206d757368726f6f6d\"\n",
    "result = hex_to_base64(input_text)\n",
    "assert result == \"SSdtIGtpbGxpbmcgeW91ciBicmFpbiBsaWtlIGEgcG9pc29ub3VzIG11c2hyb29t\"\n",
    "result\n"
   ]
  },
  {
   "cell_type": "markdown",
   "id": "5b3983e1-ecd0-4d40-84de-37462735e7db",
   "metadata": {},
   "source": [
    "## Challenge 2\n"
   ]
  },
  {
   "cell_type": "code",
   "execution_count": 17,
   "id": "262b4619-856d-4b4c-bf8f-e1e97abf92b5",
   "metadata": {},
   "outputs": [],
   "source": [
    "def xor(a1, a2):\n",
    "    i1 = int.from_bytes(a1)\n",
    "    i2 = int.from_bytes(a2)\n",
    "    return (i1 ^ i2).to_bytes(max(len(a1), len(a2)))"
   ]
  },
  {
   "cell_type": "code",
   "execution_count": 18,
   "id": "dfbb4821-4272-44e8-8cc7-e2cd83289daa",
   "metadata": {},
   "outputs": [
    {
     "data": {
      "text/plain": [
       "b\"the kid don't play\""
      ]
     },
     "execution_count": 18,
     "metadata": {},
     "output_type": "execute_result"
    }
   ],
   "source": [
    "a1 = bytes.fromhex(\"1c0111001f010100061a024b53535009181c\")\n",
    "a2 = bytes.fromhex(\"686974207468652062756c6c277320657965\")\n",
    "xor(a1, a2)"
   ]
  },
  {
   "cell_type": "code",
   "execution_count": 22,
   "id": "82cadee6-b902-40f1-98a9-a8751f0d693f",
   "metadata": {},
   "outputs": [
    {
     "data": {
      "text/markdown": [
       "## Challenge 3\n"
      ],
      "text/plain": [
       "<IPython.core.display.Markdown object>"
      ]
     },
     "metadata": {},
     "output_type": "display_data"
    }
   ],
   "source": [
    "%%markdown\n",
    "## Challenge 3\n"
   ]
  },
  {
   "cell_type": "code",
   "execution_count": 23,
   "id": "90bdfc20-c483-4d0b-bdc3-899be5bd42e4",
   "metadata": {},
   "outputs": [],
   "source": [
    "def english_score(data: bytes) -> float:\n",
    "    \"\"\"\n",
    "    Scores a bytes object based on English letter frequency.\n",
    "    Higher scores indicate text that is more likely to be English.\n",
    "    \"\"\"\n",
    "    # Typical English letter frequency (approximate)\n",
    "    frequencies = {\n",
    "        'a': 0.08167, 'b': 0.01492, 'c': 0.02782, 'd': 0.04253, 'e': 0.12702,\n",
    "        'f': 0.02228, 'g': 0.02015, 'h': 0.06094, 'i': 0.06966, 'j': 0.00153,\n",
    "        'k': 0.00772, 'l': 0.04025, 'm': 0.02406, 'n': 0.06749, 'o': 0.07507,\n",
    "        'p': 0.01929, 'q': 0.00095, 'r': 0.05987, 's': 0.06327, 't': 0.09056,\n",
    "        'u': 0.02758, 'v': 0.00978, 'w': 0.02360, 'x': 0.00150, 'y': 0.01974,\n",
    "        'z': 0.00074, ' ': 0.13000  # space is very common in English\n",
    "    }\n",
    "\n",
    "    score = 0.0\n",
    "    for byte in data:\n",
    "        char = chr(byte).lower()\n",
    "        if char in frequencies:\n",
    "            score += frequencies[char]\n",
    "        elif 32 <= byte <= 126:\n",
    "            # mildly penalize uncommon printable characters\n",
    "            score += 0.001\n",
    "        else:\n",
    "            # penalize non-printable / unlikely bytes\n",
    "            score -= 0.05\n",
    "    return score"
   ]
  },
  {
   "cell_type": "code",
   "execution_count": 46,
   "id": "c1640bc6-9e9a-4538-8557-d74289a1f429",
   "metadata": {},
   "outputs": [],
   "source": [
    "from itertools import cycle\n",
    "\n",
    "def repeating_xor(text, key):\n",
    "    repkey = bytes(\n",
    "        [b for i, b in zip(\n",
    "            range(len(text)), \n",
    "            cycle(key)\n",
    "        )]\n",
    "    )\n",
    "    return xor(text, repkey)"
   ]
  },
  {
   "cell_type": "code",
   "execution_count": 45,
   "id": "0870458e-531a-4c37-b2cc-bc7cc657561a",
   "metadata": {},
   "outputs": [
    {
     "data": {
      "text/plain": [
       "b'\\x1b77316?x\\x15\\x1b\\x7f+x413=x9x(7-6<x7>x:9;76'"
      ]
     },
     "execution_count": 45,
     "metadata": {},
     "output_type": "execute_result"
    }
   ],
   "source": [
    "encoded = bytes.fromhex(\"1b37373331363f78151b7f2b783431333d78397828372d363c78373e783a393b3736\")\n",
    "encoded"
   ]
  },
  {
   "cell_type": "code",
   "execution_count": 59,
   "id": "a65822d6-9a84-4afb-8aa4-d0de4ff5a609",
   "metadata": {},
   "outputs": [
    {
     "data": {
      "text/plain": [
       "(2.16173, 'X', b\"Cooking MC's like a pound of bacon\")"
      ]
     },
     "execution_count": 59,
     "metadata": {},
     "output_type": "execute_result"
    }
   ],
   "source": [
    "def break_xor(encoded):\n",
    "    result = []\n",
    "    for key in range(256):\n",
    "        decoded = repeating_xor(encoded, [key])\n",
    "        score = english_score(decoded)\n",
    "        result.append((score, chr(key), decoded))\n",
    "    result.sort(reverse=True)\n",
    "    return result[0]\n",
    "break_xor(encoded)"
   ]
  },
  {
   "cell_type": "code",
   "execution_count": 48,
   "id": "6dcdc803-eb87-4b2d-b5a7-5c01f81d1c9d",
   "metadata": {
    "scrolled": true
   },
   "outputs": [
    {
     "data": {
      "text/markdown": [
       "## Challenge 4\n"
      ],
      "text/plain": [
       "<IPython.core.display.Markdown object>"
      ]
     },
     "metadata": {},
     "output_type": "display_data"
    }
   ],
   "source": [
    "%%markdown\n",
    "## Challenge 4"
   ]
  },
  {
   "cell_type": "code",
   "execution_count": 194,
   "id": "79dd4e2f",
   "metadata": {},
   "outputs": [
    {
     "name": "stdout",
     "output_type": "stream",
     "text": [
      "  % Total    % Received % Xferd  Average Speed   Time    Time     Time  Current\n",
      "                                 Dload  Upload   Total   Spent    Left  Speed\n",
      "100 19944  100 19944    0     0  31220      0 --:--:-- --:--:-- --:--:-- 31211\n"
     ]
    }
   ],
   "source": [
    "!curl -O https://cryptopals.com/static/challenge-data/4.txt"
   ]
  },
  {
   "cell_type": "code",
   "execution_count": 195,
   "id": "65b80d41-221b-46c4-9453-61c4c56c74c3",
   "metadata": {},
   "outputs": [
    {
     "data": {
      "text/plain": [
       "(2.0022300000000004, '5', b'Now that the party is jumping\\n')"
      ]
     },
     "execution_count": 195,
     "metadata": {},
     "output_type": "execute_result"
    }
   ],
   "source": [
    "with open(\"4.txt\") as f:\n",
    "    lines = f.readlines()\n",
    "result = list(map(break_xor, map(bytes.fromhex, lines)))\n",
    "result.sort(reverse=True)\n",
    "result[0]"
   ]
  },
  {
   "cell_type": "code",
   "execution_count": 64,
   "id": "823cb8c6-e7d5-4bc8-8ef5-d6fa6728ea9d",
   "metadata": {},
   "outputs": [
    {
     "data": {
      "text/markdown": [
       "## Challenge 5\n"
      ],
      "text/plain": [
       "<IPython.core.display.Markdown object>"
      ]
     },
     "metadata": {},
     "output_type": "display_data"
    }
   ],
   "source": [
    "%%markdown\n",
    "## Challenge 5"
   ]
  },
  {
   "cell_type": "code",
   "execution_count": 68,
   "id": "9fc5e4a7-45d4-4db2-a93d-97136d9d2d6f",
   "metadata": {},
   "outputs": [],
   "source": [
    "text = b\"\"\"Burning 'em, if you ain't quick and nimble\n",
    "I go crazy when I hear a cymbal\"\"\"\n",
    "ciphertext = repeating_xor(text, b\"ICE\")\n",
    "assert ciphertext == bytes.fromhex(\"0b3637272a2b2e63622c2e69692a23693a2a3c6324202d623d63343c2a26226324272765272a282b2f20430a652e2c652a3124333a653e2b2027630c692b20283165286326302e27282f\")"
   ]
  },
  {
   "cell_type": "code",
   "execution_count": 69,
   "id": "1c44cd9c-e7ce-417b-80c0-5b4a0d619564",
   "metadata": {},
   "outputs": [
    {
     "data": {
      "text/markdown": [
       "## Challenge 6\n"
      ],
      "text/plain": [
       "<IPython.core.display.Markdown object>"
      ]
     },
     "metadata": {},
     "output_type": "display_data"
    }
   ],
   "source": [
    "%%markdown\n",
    "## Challenge 6"
   ]
  },
  {
   "cell_type": "code",
   "execution_count": null,
   "id": "d50f357d-6cc4-48e1-9ba9-afd36d8a838e",
   "metadata": {},
   "outputs": [],
   "source": []
  },
  {
   "cell_type": "code",
   "execution_count": 74,
   "id": "17186c80-1158-4c5d-95ca-21c185a94114",
   "metadata": {},
   "outputs": [
    {
     "name": "stdout",
     "output_type": "stream",
     "text": [
      "  % Total    % Received % Xferd  Average Speed   Time    Time     Time  Current\n",
      "                                 Dload  Upload   Total   Spent    Left  Speed\n",
      "100  3900  100  3900    0     0  28284      0 --:--:-- --:--:-- --:--:-- 28260\n"
     ]
    }
   ],
   "source": [
    "!curl -o 6.txt https://cryptopals.com/static/challenge-data/6.txt"
   ]
  },
  {
   "cell_type": "code",
   "execution_count": 118,
   "id": "5ebfe47f-737d-40e5-8aa2-3d9c9f09335c",
   "metadata": {},
   "outputs": [],
   "source": [
    "import numpy as np\n",
    "from itertools import batched"
   ]
  },
  {
   "cell_type": "code",
   "execution_count": null,
   "id": "83bee331-749d-42b1-9211-5ab00e26ffaf",
   "metadata": {},
   "outputs": [],
   "source": []
  },
  {
   "cell_type": "code",
   "execution_count": 71,
   "id": "f8abca41-728e-406c-8ab5-e865532c5fb4",
   "metadata": {},
   "outputs": [],
   "source": [
    "def hamming(a: bytes, b: bytes):\n",
    "    i1, i2 = map(int.from_bytes, (a, b))\n",
    "    return (i1 ^ i2).bit_count()"
   ]
  },
  {
   "cell_type": "code",
   "execution_count": 72,
   "id": "b204a943-0bc1-492f-a539-c9d821c94d96",
   "metadata": {},
   "outputs": [
    {
     "data": {
      "text/plain": [
       "37"
      ]
     },
     "execution_count": 72,
     "metadata": {},
     "output_type": "execute_result"
    }
   ],
   "source": [
    "hamming(b\"this is a test\", b\"wokka wokka!!!\")"
   ]
  },
  {
   "cell_type": "code",
   "execution_count": 138,
   "id": "697a701d-ede4-48d0-9135-6caf46eb4fd0",
   "metadata": {},
   "outputs": [
    {
     "name": "stdout",
     "output_type": "stream",
     "text": [
      "5 b'ionnn'\n",
      "b\"t-q#efmq!}'St\\x07\\x0bv&r` znei rnx+Xiqo'\\nI;ss-\"\n",
      "29 b'Terminator X: Bring the noise'\n",
      "b\"I'm back and I'm ringin' the bell \\nA roc\"\n",
      "3 b'nnt'\n",
      "b\"s,k#e{lq;} Ht\\x07\\x11q'h` goes uux+Bnpu'\\nT:si-\"\n"
     ]
    }
   ],
   "source": [
    "with open(\"6.txt\", \"rb\") as f:\n",
    "    ciphertext = base64.b64decode(f.read())\n",
    "    length_scores = []\n",
    "    for key_length in range(2, 42):\n",
    "        c = tuple(map(bytes, batched(ciphertext, key_length)))\n",
    "        dist = sum(hamming(c[i], c[i+1]) for i in range(8))\n",
    "        length_scores.append((dist / key_length, key_length))\n",
    "    length_scores.sort()\n",
    "    for _, key_length in length_scores[:3]:\n",
    "        l = len(ciphertext)\n",
    "        rem = l % key_length\n",
    "        data = np.frombuffer(ciphertext[:l-rem], dtype=np.uint8)\n",
    "        matrix = data.reshape((-1, key_length))\n",
    "        key = []\n",
    "        for i in range(key_length):\n",
    "            _, k, text = break_xor(matrix[:,i].tobytes())\n",
    "            key.append(ord(k))\n",
    "        key = bytes(key)\n",
    "        print(key_length, key)\n",
    "        print(repeating_xor(ciphertext, key)[:40])"
   ]
  },
  {
   "cell_type": "code",
   "execution_count": 140,
   "id": "de313a8d-3e30-4f0c-9cc6-a3935bcb3d99",
   "metadata": {},
   "outputs": [
    {
     "data": {
      "text/markdown": [
       "## Challenge 7\n"
      ],
      "text/plain": [
       "<IPython.core.display.Markdown object>"
      ]
     },
     "metadata": {},
     "output_type": "display_data"
    }
   ],
   "source": [
    "%%markdown\n",
    "## Challenge 7"
   ]
  },
  {
   "cell_type": "code",
   "execution_count": 142,
   "id": "b543082a-9a3d-427e-8692-e72062365ddb",
   "metadata": {},
   "outputs": [],
   "source": [
    "from cryptography.hazmat.primitives.ciphers import Cipher, algorithms, modes"
   ]
  },
  {
   "cell_type": "code",
   "execution_count": 143,
   "id": "e32914c4-4ec0-47f6-aa7c-9e0026c31db0",
   "metadata": {},
   "outputs": [
    {
     "name": "stdout",
     "output_type": "stream",
     "text": [
      "  % Total    % Received % Xferd  Average Speed   Time    Time     Time  Current\n",
      "                                 Dload  Upload   Total   Spent    Left  Speed\n",
      "100  3904  100  3904    0     0   6056      0 --:--:-- --:--:-- --:--:--  6052\n"
     ]
    }
   ],
   "source": [
    "!curl -O https://cryptopals.com/static/challenge-data/7.txt"
   ]
  },
  {
   "cell_type": "code",
   "execution_count": 144,
   "id": "6777d6ec-344b-4233-a489-d21d83462cae",
   "metadata": {},
   "outputs": [],
   "source": [
    "with open(\"7.txt\") as f:\n",
    "    message = base64.b64decode(f.read())"
   ]
  },
  {
   "cell_type": "code",
   "execution_count": 199,
   "id": "a83d6994",
   "metadata": {},
   "outputs": [],
   "source": [
    "def decrypt_ecb(message, key):\n",
    "    cipher = Cipher(algorithms.AES(key), modes.ECB())\n",
    "    decryptor = cipher.decryptor()\n",
    "    return decryptor.update(message) + decryptor.finalize()"
   ]
  },
  {
   "cell_type": "code",
   "execution_count": 200,
   "id": "2c213786-21bd-487a-a854-69fd65eef9a0",
   "metadata": {
    "jupyter": {
     "outputs_hidden": true
    },
    "scrolled": true
   },
   "outputs": [
    {
     "name": "stdout",
     "output_type": "stream",
     "text": [
      "I'm back and I'm ringin' the bell \n",
      "A rockin' on the mike while the fly girls yell \n",
      "In ecstasy in the back of me \n",
      "Well that's my DJ Deshay cuttin' all them Z's \n",
      "Hittin' hard and the girlies goin' crazy \n",
      "Vanilla's on the mike, man I'm not lazy. \n",
      "\n",
      "I'm lettin' my drug kick in \n",
      "It controls my mouth and I begin \n",
      "To just let it flow, let my concepts go \n",
      "My posse's to the side yellin', Go Vanilla Go! \n",
      "\n",
      "Smooth 'cause that's the way I will be \n",
      "And if you don't give a damn, then \n",
      "Why you starin' at me \n",
      "So get off 'cause I control the stage \n",
      "There's no dissin' allowed \n",
      "I'm in my own phase \n",
      "The girlies sa y they love me and that is ok \n",
      "And I can dance better than any kid n' play \n",
      "\n",
      "Stage 2 -- Yea the one ya' wanna listen to \n",
      "It's off my head so let the beat play through \n",
      "So I can funk it up and make it sound good \n",
      "1-2-3 Yo -- Knock on some wood \n",
      "For good luck, I like my rhymes atrocious \n",
      "Supercalafragilisticexpialidocious \n",
      "I'm an effect and that you can bet \n",
      "I can take a fly girl and make her wet. \n",
      "\n",
      "I'm like Samson -- Samson to Delilah \n",
      "There's no denyin', You can try to hang \n",
      "But you'll keep tryin' to get my style \n",
      "Over and over, practice makes perfect \n",
      "But not if you're a loafer. \n",
      "\n",
      "You'll get nowhere, no place, no time, no girls \n",
      "Soon -- Oh my God, homebody, you probably eat \n",
      "Spaghetti with a spoon! Come on and say it! \n",
      "\n",
      "VIP. Vanilla Ice yep, yep, I'm comin' hard like a rhino \n",
      "Intoxicating so you stagger like a wino \n",
      "So punks stop trying and girl stop cryin' \n",
      "Vanilla Ice is sellin' and you people are buyin' \n",
      "'Cause why the freaks are jockin' like Crazy Glue \n",
      "Movin' and groovin' trying to sing along \n",
      "All through the ghetto groovin' this here song \n",
      "Now you're amazed by the VIP posse. \n",
      "\n",
      "Steppin' so hard like a German Nazi \n",
      "Startled by the bases hittin' ground \n",
      "There's no trippin' on mine, I'm just gettin' down \n",
      "Sparkamatic, I'm hangin' tight like a fanatic \n",
      "You trapped me once and I thought that \n",
      "You might have it \n",
      "So step down and lend me your ear \n",
      "'89 in my time! You, '90 is my year. \n",
      "\n",
      "You're weakenin' fast, YO! and I can tell it \n",
      "Your body's gettin' hot, so, so I can smell it \n",
      "So don't be mad and don't be sad \n",
      "'Cause the lyrics belong to ICE, You can call me Dad \n",
      "You're pitchin' a fit, so step back and endure \n",
      "Let the witch doctor, Ice, do the dance to cure \n",
      "So come up close and don't be square \n",
      "You wanna battle me -- Anytime, anywhere \n",
      "\n",
      "You thought that I was weak, Boy, you're dead wrong \n",
      "So come on, everybody and sing this song \n",
      "\n",
      "Say -- Play that funky music Say, go white boy, go white boy go \n",
      "play that funky music Go white boy, go white boy, go \n",
      "Lay down and boogie and play that funky music till you die. \n",
      "\n",
      "Play that funky music Come on, Come on, let me hear \n",
      "Play that funky music white boy you say it, say it \n",
      "Play that funky music A little louder now \n",
      "Play that funky music, white boy Come on, Come on, Come on \n",
      "Play that funky music \n",
      "\u0004\u0004\u0004\u0004\n"
     ]
    }
   ],
   "source": [
    "key = b\"YELLOW SUBMARINE\"\n",
    "print(decrypt_ecb(message, key).decode('ascii'))"
   ]
  },
  {
   "cell_type": "code",
   "execution_count": 151,
   "id": "ca12e087-732b-45c2-9ad5-afe9305eb240",
   "metadata": {},
   "outputs": [
    {
     "data": {
      "text/markdown": [
       "## Challenge 8\n"
      ],
      "text/plain": [
       "<IPython.core.display.Markdown object>"
      ]
     },
     "metadata": {},
     "output_type": "display_data"
    }
   ],
   "source": [
    "%%markdown\n",
    "## Challenge 8"
   ]
  },
  {
   "cell_type": "code",
   "execution_count": 152,
   "id": "050cd3e6",
   "metadata": {},
   "outputs": [
    {
     "name": "stdout",
     "output_type": "stream",
     "text": [
      "  % Total    % Received % Xferd  Average Speed   Time    Time     Time  Current\n",
      "                                 Dload  Upload   Total   Spent    Left  Speed\n",
      "100 65484  100 65484    0     0   409k      0 --:--:-- --:--:-- --:--:--  412k\n"
     ]
    }
   ],
   "source": [
    "!curl -O https://cryptopals.com/static/challenge-data/8.txt"
   ]
  },
  {
   "cell_type": "code",
   "execution_count": 177,
   "id": "d9ec7b6f",
   "metadata": {},
   "outputs": [
    {
     "name": "stdout",
     "output_type": "stream",
     "text": [
      "[[0xd8 0x80 0x61 0x97 0x40 0xa8 0xa1 0x9b 0x78 0x40 0xa8 0xa3 0x1c 0x81\n",
      "  0xa 0x3d]\n",
      " [0x8 0x64 0x9a 0xf7 0xd 0xc0 0x6f 0x4f 0xd5 0xd2 0xd6 0x9c 0x74 0x4c\n",
      "  0xd2 0x83]\n",
      " [0xe2 0xdd 0x5 0x2f 0x6b 0x64 0x1d 0xbf 0x9d 0x11 0xb0 0x34 0x85 0x42\n",
      "  0xbb 0x57]\n",
      " [0x8 0x64 0x9a 0xf7 0xd 0xc0 0x6f 0x4f 0xd5 0xd2 0xd6 0x9c 0x74 0x4c\n",
      "  0xd2 0x83]\n",
      " [0x94 0x75 0xc9 0xdf 0xdb 0xc1 0xd4 0x65 0x97 0x94 0x9d 0x9c 0x7e 0x82\n",
      "  0xbf 0x5a]\n",
      " [0x8 0x64 0x9a 0xf7 0xd 0xc0 0x6f 0x4f 0xd5 0xd2 0xd6 0x9c 0x74 0x4c\n",
      "  0xd2 0x83]\n",
      " [0x97 0xa9 0x3e 0xab 0x8d 0x6a 0xec 0xd5 0x66 0x48 0x91 0x54 0x78 0x9a\n",
      "  0x6b 0x3]\n",
      " [0x8 0x64 0x9a 0xf7 0xd 0xc0 0x6f 0x4f 0xd5 0xd2 0xd6 0x9c 0x74 0x4c\n",
      "  0xd2 0x83]\n",
      " [0xd4 0x3 0x18 0xc 0x98 0xc8 0xf6 0xdb 0x1f 0x2a 0x3f 0x9c 0x40 0x40\n",
      "  0xde 0xb0]\n",
      " [0xab 0x51 0xb2 0x99 0x33 0xf2 0xc1 0x23 0xc5 0x83 0x86 0xb0 0x6f 0xba\n",
      "  0x18 0x6a]]\n"
     ]
    }
   ],
   "source": [
    "np.set_printoptions(formatter={'int':hex})\n",
    "with open(\"8.txt\") as f:\n",
    "    lines = f.readlines()\n",
    "    ciphertext = [np.frombuffer(bytes.fromhex(x), dtype=np.uint8).reshape((-1, 16)) for x in lines]\n",
    "for c in ciphertext:\n",
    "    u = np.unique(c, axis=0)\n",
    "    if len(u) < c.shape[0]:\n",
    "        print(c)"
   ]
  },
  {
   "cell_type": "code",
   "execution_count": 178,
   "id": "02f3f6ad",
   "metadata": {},
   "outputs": [
    {
     "data": {
      "text/markdown": [
       "## Challenge 9\n"
      ],
      "text/plain": [
       "<IPython.core.display.Markdown object>"
      ]
     },
     "metadata": {},
     "output_type": "display_data"
    }
   ],
   "source": [
    "%%markdown\n",
    "## Challenge 9"
   ]
  },
  {
   "cell_type": "code",
   "execution_count": 230,
   "id": "b9e08a53",
   "metadata": {},
   "outputs": [],
   "source": [
    "def pad_pkcs7(text, block_size=16):\n",
    "    l = len(text)\n",
    "    rem = l % block_size\n",
    "    pad = block_size - rem\n",
    "    return text + bytes([pad] * pad)"
   ]
  },
  {
   "cell_type": "code",
   "execution_count": 232,
   "id": "a05f6833",
   "metadata": {},
   "outputs": [
    {
     "data": {
      "text/plain": [
       "b'YELLOW SUBMARINE\\x04\\x04\\x04\\x04'"
      ]
     },
     "execution_count": 232,
     "metadata": {},
     "output_type": "execute_result"
    }
   ],
   "source": [
    "pad_pkcs7(b\"YELLOW SUBMARINE\", 20)"
   ]
  },
  {
   "cell_type": "code",
   "execution_count": 196,
   "id": "27e6eb2c",
   "metadata": {},
   "outputs": [
    {
     "data": {
      "text/markdown": [
       "## Challenge 10\n"
      ],
      "text/plain": [
       "<IPython.core.display.Markdown object>"
      ]
     },
     "metadata": {},
     "output_type": "display_data"
    }
   ],
   "source": [
    "%%markdown\n",
    "## Challenge 10"
   ]
  },
  {
   "cell_type": "code",
   "execution_count": 206,
   "id": "76a5303e",
   "metadata": {},
   "outputs": [
    {
     "name": "stdout",
     "output_type": "stream",
     "text": [
      "  % Total    % Received % Xferd  Average Speed   Time    Time     Time  Current\n",
      "                                 Dload  Upload   Total   Spent    Left  Speed\n",
      "100  3904  100  3904    0     0   5822      0 --:--:-- --:--:-- --:--:--  5818\n"
     ]
    }
   ],
   "source": [
    "!curl -O https://cryptopals.com/static/challenge-data/10.txt"
   ]
  },
  {
   "cell_type": "code",
   "execution_count": 253,
   "id": "4653a263",
   "metadata": {},
   "outputs": [],
   "source": [
    "def encrypt_ecb(message, key):\n",
    "    cipher = Cipher(algorithms.AES(key), modes.ECB())\n",
    "    encryptor = cipher.encryptor()\n",
    "    padded = pad_pkcs7(message)\n",
    "    return encryptor.update(padded) + encryptor.finalize()"
   ]
  },
  {
   "cell_type": "code",
   "execution_count": 271,
   "id": "6e8dff3e",
   "metadata": {},
   "outputs": [],
   "source": [
    "def encrypt_cbc(message, key, iv):\n",
    "    message = pad_pkcs7(message)\n",
    "    cipher = Cipher(algorithms.AES(key), modes.ECB())\n",
    "    encryptor = cipher.encryptor()\n",
    "    prev_block = iv\n",
    "    text = b\"\"\n",
    "    for i in range(0, len(message), 16):\n",
    "        block = encryptor.update(xor(prev_block, message[i:i+16]))\n",
    "        text += block\n",
    "        prev_block = block\n",
    "    assert encryptor.finalize() == b\"\"\n",
    "    return text"
   ]
  },
  {
   "cell_type": "code",
   "execution_count": 272,
   "id": "91bf51ba",
   "metadata": {},
   "outputs": [],
   "source": [
    "def decrypt_cbc(message, key, iv):\n",
    "    assert len(message) % 16 == 0\n",
    "    prev_block = iv\n",
    "    text = b\"\"\n",
    "    for i in range(0, len(message), 16):\n",
    "        block = message[i:i+16]\n",
    "        text += xor(prev_block, decrypt_ecb(block, key))\n",
    "        prev_block = block\n",
    "    return text"
   ]
  },
  {
   "cell_type": "code",
   "execution_count": 273,
   "id": "1829284e",
   "metadata": {},
   "outputs": [
    {
     "data": {
      "text/plain": [
       "b'HelloHelloHelloHelloHelloHelloHelloHelloHelloHelloHelloHelloHelloHelloHelloHelloHelloHelloHelloHello\\x0c\\x0c\\x0c\\x0c\\x0c\\x0c\\x0c\\x0c\\x0c\\x0c\\x0c\\x0c'"
      ]
     },
     "execution_count": 273,
     "metadata": {},
     "output_type": "execute_result"
    }
   ],
   "source": [
    "ciphertext = encrypt_cbc(b\"Hello\"*20, key, iv)\n",
    "decrypt_cbc(ciphertext, key, iv)"
   ]
  },
  {
   "cell_type": "code",
   "execution_count": 262,
   "id": "1854a2bb",
   "metadata": {},
   "outputs": [
    {
     "data": {
      "text/plain": [
       "b\"I'm back and I'm ringin' the bell \\nA rockin' on the mike while the fly girls yell \\nIn ecstasy in the back of me \\nWell that's my DJ Deshay cuttin' all them Z's \\nHittin' hard and the girlies goin' crazy \\nVanilla's on the mike, man I'm not lazy. \\n\\nI'm lettin' my drug kick in \\nIt controls my mouth and I begin \\nTo just let it flow, let my concepts go \\nMy posse's to the side yellin', Go Vanilla Go! \\n\\nSmooth 'cause that's the way I will be \\nAnd if you don't give a damn, then \\nWhy you starin' at me \\nSo get off 'cause I control the stage \\nThere's no dissin' allowed \\nI'm in my own phase \\nThe girlies sa y they love me and that is ok \\nAnd I can dance better than any kid n' play \\n\\nStage 2 -- Yea the one ya' wanna listen to \\nIt's off my head so let the beat play through \\nSo I can funk it up and make it sound good \\n1-2-3 Yo -- Knock on some wood \\nFor good luck, I like my rhymes atrocious \\nSupercalafragilisticexpialidocious \\nI'm an effect and that you can bet \\nI can take a fly girl and make her wet. \\n\\nI'm like Samson -- Samson to Delilah \\nThere's no denyin', You can try to hang \\nBut you'll keep tryin' to get my style \\nOver and over, practice makes perfect \\nBut not if you're a loafer. \\n\\nYou'll get nowhere, no place, no time, no girls \\nSoon -- Oh my God, homebody, you probably eat \\nSpaghetti with a spoon! Come on and say it! \\n\\nVIP. Vanilla Ice yep, yep, I'm comin' hard like a rhino \\nIntoxicating so you stagger like a wino \\nSo punks stop trying and girl stop cryin' \\nVanilla Ice is sellin' and you people are buyin' \\n'Cause why the freaks are jockin' like Crazy Glue \\nMovin' and groovin' trying to sing along \\nAll through the ghetto groovin' this here song \\nNow you're amazed by the VIP posse. \\n\\nSteppin' so hard like a German Nazi \\nStartled by the bases hittin' ground \\nThere's no trippin' on mine, I'm just gettin' down \\nSparkamatic, I'm hangin' tight like a fanatic \\nYou trapped me once and I thought that \\nYou might have it \\nSo step down and lend me your ear \\n'89 in my time! You, '90 is my year. \\n\\nYou're weakenin' fast, YO! and I can tell it \\nYour body's gettin' hot, so, so I can smell it \\nSo don't be mad and don't be sad \\n'Cause the lyrics belong to ICE, You can call me Dad \\nYou're pitchin' a fit, so step back and endure \\nLet the witch doctor, Ice, do the dance to cure \\nSo come up close and don't be square \\nYou wanna battle me -- Anytime, anywhere \\n\\nYou thought that I was weak, Boy, you're dead wrong \\nSo come on, everybody and sing this song \\n\\nSay -- Play that funky music Say, go white boy, go white boy go \\nplay that funky music Go white boy, go white boy, go \\nLay down and boogie and play that funky music till you die. \\n\\nPlay that funky music Come on, Come on, let me hear \\nPlay that funky music white boy you say it, say it \\nPlay that funky music A little louder now \\nPlay that funky music, white boy Come on, Come on, Come on \\nPlay that funky music \\n\\x04\\x04\\x04\\x04\""
      ]
     },
     "execution_count": 262,
     "metadata": {},
     "output_type": "execute_result"
    }
   ],
   "source": [
    "key = b\"YELLOW SUBMARINE\"\n",
    "iv = b\"\\x00\" * 16\n",
    "with open(\"10.txt\") as f:\n",
    "    message = base64.b64decode(f.read())\n",
    "decrypt_cbc(message, key, iv)"
   ]
  },
  {
   "cell_type": "code",
   "execution_count": 210,
   "id": "7d75bf33",
   "metadata": {},
   "outputs": [
    {
     "data": {
      "text/markdown": [
       "## Challenge 11\n"
      ],
      "text/plain": [
       "<IPython.core.display.Markdown object>"
      ]
     },
     "metadata": {},
     "output_type": "display_data"
    }
   ],
   "source": [
    "%%markdown\n",
    "## Challenge 11"
   ]
  },
  {
   "cell_type": "code",
   "execution_count": 211,
   "id": "0f8ee296",
   "metadata": {},
   "outputs": [],
   "source": [
    "import secrets\n",
    "\n",
    "def random_key():\n",
    "    return secrets.token_bytes(16)"
   ]
  },
  {
   "cell_type": "code",
   "execution_count": 212,
   "id": "c8aff8e8",
   "metadata": {},
   "outputs": [
    {
     "data": {
      "text/plain": [
       "b'\\t_\\xeb\\xd1\\x91\\xa2\\xe1k9/\\xa4\\xe7\\x8a\\x0e\\xd2V'"
      ]
     },
     "execution_count": 212,
     "metadata": {},
     "output_type": "execute_result"
    }
   ],
   "source": [
    "random_key()"
   ]
  },
  {
   "cell_type": "code",
   "execution_count": 289,
   "id": "8823c3ea",
   "metadata": {},
   "outputs": [],
   "source": [
    "def encrypt_random(text):\n",
    "    key = random_key()\n",
    "    front = secrets.token_bytes(5 + secrets.randbelow(6))\n",
    "    back = secrets.token_bytes(5 + secrets.randbelow(6))\n",
    "    text = front + text + back\n",
    "    if secrets.choice((True, False)):\n",
    "        print(\"cbc\")\n",
    "        return encrypt_cbc(text, key, secrets.token_bytes(16))\n",
    "    else:\n",
    "        print(\"ecb\")\n",
    "        return encrypt_ecb(text, key)"
   ]
  },
  {
   "cell_type": "code",
   "execution_count": 290,
   "id": "46d3bba1",
   "metadata": {},
   "outputs": [
    {
     "name": "stdout",
     "output_type": "stream",
     "text": [
      "ecb\n"
     ]
    },
    {
     "data": {
      "text/plain": [
       "b\"\\xc3b\\xd8\\x06J*\\xe0m\\x98\\xca\\x9c\\x18\\xafD\\x1fP\\xc3\\xf1\\xa4KS\\xdc\\x19'M%M\\x7f\\xafS\\xb9}\""
      ]
     },
     "execution_count": 290,
     "metadata": {},
     "output_type": "execute_result"
    }
   ],
   "source": [
    "encrypt_random(b\"It's me, Mario\")"
   ]
  },
  {
   "cell_type": "code",
   "execution_count": 291,
   "id": "95eab18c",
   "metadata": {},
   "outputs": [],
   "source": [
    "def detect_ecb():\n",
    "    input_message = b\"0\" * 1024\n",
    "    encrypted = encrypt_random(input_message)\n",
    "    a = np.frombuffer(encrypted, dtype=np.uint8).reshape((-1, 16))\n",
    "    return len(np.unique(a, axis=0)) < a.shape[0]"
   ]
  },
  {
   "cell_type": "code",
   "execution_count": 294,
   "id": "d86ba490",
   "metadata": {},
   "outputs": [
    {
     "name": "stdout",
     "output_type": "stream",
     "text": [
      "cbc\n"
     ]
    },
    {
     "data": {
      "text/plain": [
       "False"
      ]
     },
     "execution_count": 294,
     "metadata": {},
     "output_type": "execute_result"
    }
   ],
   "source": [
    "detect_ecb()"
   ]
  },
  {
   "cell_type": "code",
   "execution_count": null,
   "id": "75d8c42d",
   "metadata": {},
   "outputs": [],
   "source": []
  }
 ],
 "metadata": {
  "kernelspec": {
   "display_name": "Python 3 (ipykernel)",
   "language": "python",
   "name": "python3"
  },
  "language_info": {
   "codemirror_mode": {
    "name": "ipython",
    "version": 3
   },
   "file_extension": ".py",
   "mimetype": "text/x-python",
   "name": "python",
   "nbconvert_exporter": "python",
   "pygments_lexer": "ipython3",
   "version": "3.13.7"
  }
 },
 "nbformat": 4,
 "nbformat_minor": 5
}
